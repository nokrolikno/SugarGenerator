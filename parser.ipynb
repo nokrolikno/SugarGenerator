{
 "cells": [
  {
   "cell_type": "code",
   "execution_count": 1,
   "id": "80373567",
   "metadata": {},
   "outputs": [],
   "source": [
    "# !pip install bs4 lxml tqdm pathlib"
   ]
  },
  {
   "cell_type": "code",
   "execution_count": 1,
   "id": "1349e4c5",
   "metadata": {},
   "outputs": [],
   "source": [
    "from bs4 import BeautifulSoup\n",
    "import json\n",
    "import requests\n",
    "import random\n",
    "import time\n",
    "from pathlib import Path\n",
    "from tqdm.notebook import tqdm"
   ]
  },
  {
   "cell_type": "code",
   "execution_count": 2,
   "id": "5d562a44",
   "metadata": {},
   "outputs": [],
   "source": [
    "main_menu_url = 'https://eda.ru/recepty/vypechka-deserty?page='\n",
    "main_page_dir = 'main_pages/'\n",
    "PAGES = 714\n",
    "headers = {\n",
    "    'accept': '/',\n",
    "    'user-agent': 'Mozilla/5.0 (Linux; Android 5.0; Nexus 5 Build/MRA58N) AppleWebKit/537.36 (KHTML, like Gecko) Chrome/106.0.0.0 Mobile Safari/537.36'\n",
    "}"
   ]
  },
  {
   "cell_type": "code",
   "execution_count": 3,
   "id": "b00ad327",
   "metadata": {},
   "outputs": [],
   "source": [
    "# ## main parser. uncomment for base parsing\n",
    "\n",
    "# for i in tqdm(range(PAGES)):\n",
    "#     response = requests.get(f'{main_menu_url}{i+1}', headers=headers)\n",
    "#     if response.ok:\n",
    "#         Path(f'{main_page_dir}{i+1}').mkdir(parents=True, exist_ok=True)\n",
    "#         with open(f'{main_page_dir}{i+1}/index.html', 'w', encoding='UTF-8') as f:\n",
    "#             f.write(response.text)"
   ]
  },
  {
   "cell_type": "code",
   "execution_count": 4,
   "id": "a2a37fd6",
   "metadata": {},
   "outputs": [],
   "source": [
    "# for i in tqdm(range(PAGES)):\n",
    "#     with open(f'{main_page_dir}{i+1}/index.html', 'r', encoding='UTF-8') as f:\n",
    "#         text = f.read()\n",
    "#     soup = BeautifulSoup(text, 'lxml')\n",
    "#     for recept_num, a in enumerate(soup.find_all('a', {'class': 'emotion-16apf7d'})):\n",
    "#         response = requests.get(a['href'], headers=headers)\n",
    "#         time.sleep(0.3)\n",
    "#         if response.ok:\n",
    "#             with open(f'{main_page_dir}{i+1}/{recept_num}.txt', 'w', encoding='UTF-8') as f:\n",
    "#                 f.write(response.text)\n",
    "#     with open(f'{main_page_dir}{i+1}/amount.txt', 'w', encoding='UTF-8') as f:\n",
    "#         f.write(str(recept_num + 1))"
   ]
  },
  {
   "cell_type": "code",
   "execution_count": 5,
   "id": "629fd030",
   "metadata": {},
   "outputs": [
    {
     "data": {
      "application/vnd.jupyter.widget-view+json": {
       "model_id": "0553f717b75641e5993372a904eda6da",
       "version_major": 2,
       "version_minor": 0
      },
      "text/plain": [
       "  0%|          | 0/714 [00:00<?, ?it/s]"
      ]
     },
     "metadata": {},
     "output_type": "display_data"
    },
    {
     "name": "stdout",
     "output_type": "stream",
     "text": [
      "page: 25 recept: 1\n"
     ]
    }
   ],
   "source": [
    "dataset = open('train_dataset.txt', 'w', encoding='UTF-8')\n",
    "for i in tqdm(range(PAGES)):\n",
    "    with open(f'{main_page_dir}{i+1}/amount.txt', 'r', encoding='UTF-8') as f:\n",
    "        amount = int(f.read().strip())\n",
    "    for recept_i in range(amount):\n",
    "        with open(f'{main_page_dir}{i+1}/{recept_i}.txt', 'r', encoding='UTF-8') as f:\n",
    "            page = f.read()\n",
    "        soup = BeautifulSoup(page, 'lxml')\n",
    "        try:\n",
    "            name = soup.find('h1', {'class': 'emotion-15pucj7'}).text\n",
    "        except AttributeError:\n",
    "            print(f'page: {i+1} recept: {recept_i}')\n",
    "            continue\n",
    "        dataset.write(name + '|0|')\n",
    "        steps = soup.find_all('span', {'itemprop': 'text'})\n",
    "        for j, step in enumerate(steps):\n",
    "            dataset.write(f'|{j+1}|' + step.text.replace(\"\\n\", \" \").strip())\n",
    "        dataset.write('<|endoftext|>\\n')\n",
    "dataset.close()"
   ]
  },
  {
   "cell_type": "code",
   "execution_count": null,
   "id": "7483c744",
   "metadata": {},
   "outputs": [],
   "source": []
  },
  {
   "cell_type": "code",
   "execution_count": null,
   "id": "ae068468",
   "metadata": {},
   "outputs": [],
   "source": []
  }
 ],
 "metadata": {
  "kernelspec": {
   "display_name": "Python 3 (ipykernel)",
   "language": "python",
   "name": "python3"
  },
  "language_info": {
   "codemirror_mode": {
    "name": "ipython",
    "version": 3
   },
   "file_extension": ".py",
   "mimetype": "text/x-python",
   "name": "python",
   "nbconvert_exporter": "python",
   "pygments_lexer": "ipython3",
   "version": "3.9.2"
  }
 },
 "nbformat": 4,
 "nbformat_minor": 5
}
